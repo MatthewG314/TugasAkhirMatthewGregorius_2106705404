{
 "cells": [
  {
   "cell_type": "markdown",
   "metadata": {
    "colab_type": "text",
    "id": "view-in-github"
   },
   "source": [
    "<a href=\"https://colab.research.google.com/github/haryobimo96/ct-denoising-redcnn/blob/master/CT_Denoising_RED_CNN.ipynb\" target=\"_parent\"><img src=\"https://colab.research.google.com/assets/colab-badge.svg\" alt=\"Open In Colab\"/></a>"
   ]
  },
  {
   "cell_type": "markdown",
   "metadata": {
    "colab_type": "text",
    "id": "MeYHiaN_PZYD"
   },
   "source": [
    "# **CT Denoising using RED-CNN**\n",
    "\n",
    "This project was built for my bachelor thesis. It implements RED-CNN designed by Chen et al. (2017) for CT image denoising. While Chen et al. used a CT images dataset available online, this project used phantom images as both training and testing datasets. The phantoms used for this project are polymethyl-methacrylate (PMMA) phantom for the training and testing dataset, water phantom for an additional testing dataset, and wire phantom for modulation transfer function (MTF) measurements of the denoised images. This project focuses on the analysis of the newly denoised images' noise properties which can be quantitatively analysed using MTF for images' sharpness evaluation and noise power spectrum (NPS) for the evaluation of the noise texture change. This project uses Tensorflow 2 for its deep learning library."
   ]
  },
  {
   "cell_type": "markdown",
   "metadata": {
    "colab_type": "text",
    "id": "gBEMmAGZSOuf"
   },
   "source": [
    "# 1. Import libraries"
   ]
  },
  {
   "cell_type": "markdown",
   "metadata": {
    "colab_type": "text",
    "id": "XvmVKjJKM_M5"
   },
   "source": [
    "Additional library (pydicom) is needed to open medical DICOM images."
   ]
  },
  {
   "cell_type": "code",
   "execution_count": 1,
   "metadata": {
    "colab": {
     "base_uri": "https://localhost:8080/",
     "height": 125
    },
    "colab_type": "code",
    "id": "KseDT-Lu47-q",
    "outputId": "32fe31d6-0d18-4399-f62f-10ca7c00963a"
   },
   "outputs": [],
   "source": [
    "#! pip install pydicom"
   ]
  },
  {
   "cell_type": "code",
   "execution_count": 3,
   "metadata": {
    "colab": {},
    "colab_type": "code",
    "id": "6uHOJUW0zcSX"
   },
   "outputs": [],
   "source": [
    "import datetime, time\n",
    "import pydicom\n",
    "import os\n",
    "import numpy as np\n",
    "import keras\n",
    "import math\n",
    "import pandas as pd\n",
    "import tensorflow as tf\n",
    "from sklearn.model_selection import train_test_split\n",
    "from pydicom.dataset import Dataset, FileDataset\n",
    "from sklearn.utils import shuffle\n",
    "from matplotlib import pyplot, cm\n",
    "\n",
    "\n",
    "import pydicom"
   ]
  },
  {
   "cell_type": "code",
   "execution_count": null,
   "metadata": {},
   "outputs": [],
   "source": [
    "import time\n",
    "import psutil\n",
    "import tracemalloc\n",
    "import pynvml\n",
    "import tensorflow as tf\n",
    "import threading\n",
    "\n",
    "# Initialize GPU monitoring\n",
    "pynvml.nvmlInit()\n",
    "handle = pynvml.nvmlDeviceGetHandleByIndex(0)\n",
    "\n",
    "# Track CPU utilization (system-wide) over time\n",
    "cpu_utilization_samples = []\n",
    "stop_sampling = False\n",
    "\n",
    "def sample_cpu_utilization(interval=1.0):\n",
    "    while not stop_sampling:\n",
    "        cpu_utilization_samples.append(psutil.cpu_percent(interval=interval))\n",
    "\n",
    "# Start CPU utilization sampling in the background\n",
    "sampling_thread = threading.Thread(target=sample_cpu_utilization)\n",
    "sampling_thread.start()\n",
    "\n",
    "# Start resource tracking\n",
    "start_time = time.time()\n",
    "tracemalloc.start()\n",
    "process = psutil.Process()\n",
    "cpu_times_start = process.cpu_times()"
   ]
  },
  {
   "cell_type": "code",
   "execution_count": 5,
   "metadata": {},
   "outputs": [
    {
     "name": "stdout",
     "output_type": "stream",
     "text": [
      "Num GPUs Available:  1\n"
     ]
    }
   ],
   "source": [
    "\n",
    "print(\"Num GPUs Available: \", len(tf.config.list_physical_devices('GPU')))"
   ]
  },
  {
   "cell_type": "markdown",
   "metadata": {
    "colab_type": "text",
    "id": "g3GNgdH1SY_1"
   },
   "source": [
    "# 2. Build the database from the available CT images"
   ]
  },
  {
   "cell_type": "markdown",
   "metadata": {
    "colab_type": "text",
    "id": "bIBgXk9sSlQ0"
   },
   "source": [
    "FileManager would extract information about the directory of the images (in this case the directory uses Google Colab's disk directory) and count the amount of data in the said directory. The images from the directory are then turned into smaller patches that depict different parts of the images. This patch extraction would amplify the dataset's amount and emphasise the details of the images (which include their noise properties). Simple conventional augmentation methods for deep learning are also used here (mirroring, rotation, etc.)"
   ]
  },
  {
   "cell_type": "code",
   "execution_count": 6,
   "metadata": {
    "colab": {},
    "colab_type": "code",
    "id": "KeNeBBcZZ6SY"
   },
   "outputs": [],
   "source": [
    "class FileManager():\n",
    "    def __init__(self,directory):\n",
    "        self.directory = directory\n",
    "\n",
    "    def DicomFiles(self):\n",
    "        PathDicom = self.directory\n",
    "        lstFilesDCM = []\n",
    "        for dirName, subdirList, fileList in os.walk(PathDicom):\n",
    "            for filename in sorted(fileList):\n",
    "                if \".dcm\" in filename.lower():\n",
    "                    lstFilesDCM.append(os.path.join(dirName,filename))\n",
    "        return lstFilesDCM\n",
    "\n",
    "    def FileCounter(self):\n",
    "        file_count = sum(len(files) for _, _, files in \n",
    "                         sorted(os.walk(self.directory)))\n",
    "        return file_count\n",
    "\n",
    "def patch_extractor(img,pixel_size,patch_size,patch_stride):\n",
    "    patches = int(((pixel_size-patch_size)/(patch_stride))**2)\n",
    "    patch_array = np.zeros((int(patches),\n",
    "                            patch_size,patch_size,1),dtype='float32')\n",
    "    for j in range(0,pixel_size-patch_size,patch_stride):\n",
    "        for i in range(0,pixel_size-patch_size,patch_stride):\n",
    "            patch_array[int(i/patch_stride)\n",
    "                        + int(j*np.sqrt(patches)/patch_stride)\n",
    "                        ] = img[i:i+patch_size,\n",
    "                                j:j+patch_size]\n",
    "    return patch_array"
   ]
  },
  {
   "cell_type": "code",
   "execution_count": 7,
   "metadata": {
    "colab": {},
    "colab_type": "code",
    "id": "zZf_6INxehPW"
   },
   "outputs": [],
   "source": [
    "def DatasetBuilder(directory,pixel_size,patch_size,patch_stride):\n",
    "  \n",
    "    FM = FileManager(directory)\n",
    "\n",
    "    dicom_files = FM.DicomFiles()\n",
    "    if not dicom_files:\n",
    "        raise ValueError(\"No DICOM files found in the specified directory.\")\n",
    "    print(f\"Found {len(dicom_files)} DICOM files.\")\n",
    "\n",
    "\n",
    "    patches = int(((pixel_size-patch_size)/(patch_stride))**2)\n",
    "    dp = np.zeros(\n",
    "        (patches * FM.FileCounter(), patch_size, patch_size, 1),\n",
    "        dtype=pydicom.dcmread(dicom_files[0]).pixel_array.dtype\n",
    "    )\n",
    "    dp_list = [dp.copy() for _ in range(8)]\n",
    "\n",
    "    for file_idx, filenameDCM in enumerate(sorted(dicom_files)):\n",
    "        data = []\n",
    "        ds = pydicom.dcmread(filenameDCM)\n",
    "        data.append(ds.pixel_array)\n",
    "        a = ds.pixel_array.shape[0]\n",
    "        b = ds.pixel_array.shape[1]\n",
    "        img = ds.pixel_array.reshape(a,b,1)\n",
    "\n",
    "        img = img[int((a-pixel_size)//2):int((a+pixel_size)//2),\n",
    "                  (int(b-pixel_size)//2):int((b+pixel_size)//2)]\n",
    "        \n",
    "\n",
    "        df0 = patch_extractor(img,pixel_size,patch_size,patch_stride)\n",
    "        df1 = patch_extractor(np.flipud(img),\n",
    "                              pixel_size,patch_size,patch_stride)\n",
    "        df2 = patch_extractor(np.fliplr(img),\n",
    "                              pixel_size,patch_size,patch_stride)\n",
    "        df3 = patch_extractor(np.rot90(img),\n",
    "                              pixel_size,patch_size,patch_stride)\n",
    "        df4 = patch_extractor(np.rot90(img,3),\n",
    "                              pixel_size,patch_size,patch_stride)\n",
    "        df5 = patch_extractor(np.flipud(np.fliplr(img)),\n",
    "                              pixel_size,patch_size,patch_stride)\n",
    "        df6 = patch_extractor(np.fliplr(np.rot90(img)),\n",
    "                              pixel_size,patch_size,patch_stride)\n",
    "        df7 = patch_extractor(np.fliplr(np.rot90(img,3)),\n",
    "                              pixel_size,patch_size,patch_stride)\n",
    "        df_list = [df0, df1, df2, df3, df4, df5, df6, df7]\n",
    "\n",
    "        for i, df in enumerate(df_list):\n",
    "            if df.shape != df_list[0].shape:\n",
    "                raise ValueError(f\"Shape mismatch in augmentation {i}: {df.shape} vs {df_list[0].shape}\")\n",
    "        \n",
    "        for l in range(8):\n",
    "            for g in range(df0.shape[0]):\n",
    "                dp_list[l][g+df0.shape[0]*\n",
    "                          FM.DicomFiles().index(filenameDCM)\n",
    "                          ] = df_list[l][g]\n",
    "    \n",
    "    return np.concatenate((dp_list[0],dp_list[1],dp_list[2],dp_list[3],\n",
    "                          dp_list[4],dp_list[5],dp_list[6],dp_list[7]),axis=0)"
   ]
  },
  {
   "cell_type": "markdown",
   "metadata": {
    "colab_type": "text",
    "id": "IfcuDsfFU83I"
   },
   "source": [
    "\n",
    "\n",
    "The dataset is then split into two parts. The first one (X) is the noisy dataset with added Poisson noise to be corrected to the normal dose references (y). The neural network would need to learn the correction needed ($\\sigma$) for X to be as close as possible to y such that\n",
    "\n",
    "\n",
    "> $\\sigma(X) \\approx y$\n",
    "\n",
    "and\n",
    "\n",
    "> $\\sigma \\approx h$\n",
    "\n",
    "where it is assumed that\n",
    "\n",
    "> $h(X) = y.$\n",
    "\n",
    "The new datasets are then split into training and validation datasets.\n",
    "\n"
   ]
  },
  {
   "cell_type": "code",
   "execution_count": 8,
   "metadata": {
    "colab": {
     "base_uri": "https://localhost:8080/",
     "height": 34
    },
    "colab_type": "code",
    "id": "h9N6oxvWfX_Y",
    "outputId": "5cd75e93-3114-4e85-9bb1-bab8fcc8ac76"
   },
   "outputs": [
    {
     "name": "stdout",
     "output_type": "stream",
     "text": [
      "Found 30 DICOM files.\n",
      "Found 30 DICOM files.\n",
      "96000\n"
     ]
    }
   ],
   "source": [
    "X = DatasetBuilder('C:/Matthew/Kuliah/Semester 8/Pengolahan Data/Progress code terbaru (4 apr)/Data/Added Noise/CT-Scan/Poisson',384,64,16)\n",
    "y = DatasetBuilder('C:/Matthew/Kuliah/Semester 8/Pengolahan Data/Progress code terbaru (4 apr)/Data/Original/CT-Scan',384,64,16)\n",
    "\n",
    "print(X.shape[0])"
   ]
  },
  {
   "cell_type": "code",
   "execution_count": 9,
   "metadata": {
    "colab": {},
    "colab_type": "code",
    "id": "MWumM0vfaFc0"
   },
   "outputs": [],
   "source": [
    "X, y = shuffle(X, y, random_state=5)\n",
    "X_train, X_test, y_train, y_test = train_test_split(X, y, test_size=0.2, \n",
    "                                                    random_state = 5)\n",
    "del X,y"
   ]
  },
  {
   "cell_type": "markdown",
   "metadata": {
    "colab_type": "text",
    "id": "CXnhOCnWUeDb"
   },
   "source": [
    "**Shown below:** one of the patches used as the training dataset"
   ]
  },
  {
   "cell_type": "code",
   "execution_count": 10,
   "metadata": {
    "colab": {
     "base_uri": "https://localhost:8080/",
     "height": 286
    },
    "colab_type": "code",
    "id": "ur1-9xGjSsgr",
    "outputId": "d59c4736-ccf2-4cf4-c8db-a831a7ccec6a"
   },
   "outputs": [
    {
     "name": "stdout",
     "output_type": "stream",
     "text": [
      "19200\n"
     ]
    },
    {
     "data": {
      "image/png": "[encoded data removed]",
      "text/plain": [
       "<Figure size 640x480 with 1 Axes>"
      ]
     },
     "metadata": {},
     "output_type": "display_data"
    }
   ],
   "source": [
    "pyplot.imshow(y_test[1000].reshape(64,64),cmap='gray')\n",
    "print(y_test.shape[0])"
   ]
  },
  {
   "cell_type": "code",
   "execution_count": 11,
   "metadata": {
    "colab": {},
    "colab_type": "code",
    "id": "DFyyzMWJjJjx"
   },
   "outputs": [],
   "source": [
    "def Normalizer(u):\n",
    "    u = u.reshape(u.shape[0],u.shape[1],u.shape[2],1)\n",
    "    u = ((u-np.min(u))/(np.max(u)-np.min(u))).astype('float32')\n",
    "    return u"
   ]
  },
  {
   "cell_type": "code",
   "execution_count": 12,
   "metadata": {
    "colab": {},
    "colab_type": "code",
    "id": "PYVY9y1Dlk95"
   },
   "outputs": [],
   "source": [
    "X_test = Normalizer(X_test)\n",
    "X_train = Normalizer(X_train)\n",
    "y_train = Normalizer(y_train)\n",
    "y_test = Normalizer(y_test)"
   ]
  },
  {
   "cell_type": "markdown",
   "metadata": {
    "colab_type": "text",
    "id": "sxHxKFJLbtPX"
   },
   "source": [
    "# 3. Build and train the network\n",
    "\n",
    "The network uses the following layers configuration (Chen et al., 2017):"
   ]
  },
  {
   "cell_type": "code",
   "execution_count": 13,
   "metadata": {
    "colab": {
     "base_uri": "https://localhost:8080/",
     "height": 478
    },
    "colab_type": "code",
    "id": "Z_Af76ueH1Ra",
    "outputId": "33b7c505-0ffc-4a03-bffc-3ec435203ce0"
   },
   "outputs": [],
   "source": [
    "# from IPython.display import Image\n",
    "# Image('/content/RED-CNN.jpg')"
   ]
  },
  {
   "cell_type": "code",
   "execution_count": 14,
   "metadata": {
    "colab": {},
    "colab_type": "code",
    "id": "WvoO9h8P1Ikj"
   },
   "outputs": [],
   "source": [
    "from tensorflow.keras.layers import (Conv2D, Conv2DTranspose, Add)\n",
    "from tensorflow.keras.activations import relu\n",
    "\n",
    "class Network(tf.keras.Model):\n",
    "    def __init__(self):\n",
    "        super(Network,self).__init__()\n",
    "        self.conv2d0 = Conv2D(filters = 96, kernel_size = (5,5),\n",
    "                              strides = (1,1), name='en_conv0',\n",
    "                              activation='relu', data_format='channels_last',\n",
    "                              input_shape=(64,64,1))\n",
    "        self.conv2d = Conv2D(filters = 96, kernel_size = (5,5),\n",
    "                             strides = (1,1), name='en_conv',\n",
    "                             activation='relu', data_format='channels_last')\n",
    "        self.conv2dT = Conv2DTranspose(filters = 96, kernel_size = (5,5),\n",
    "                                       strides = (1,1), name='de_conv',\n",
    "                                       data_format = 'channels_last')\n",
    "        self.conv2dT1 = Conv2DTranspose(filters = 1, kernel_size = (5,5),\n",
    "                                        strides = (1,1), name='de_convf',\n",
    "                                        data_format = 'channels_last')\n",
    "        \n",
    "    def call(self,input):\n",
    "        x = self.conv2d0(input)\n",
    "        x1 = self.conv2d(x)\n",
    "        x = self.conv2d(x1)\n",
    "        x2 = self.conv2d(x)\n",
    "        x = self.conv2d(x2)\n",
    "\n",
    "        v0 = self.conv2dT(x)\n",
    "        v = Add()([x2,v0])\n",
    "        v = relu(v)\n",
    "        v = self.conv2dT(v)\n",
    "        v1 = self.conv2dT(v)\n",
    "        v = Add()([x1,v1])\n",
    "        v = relu(v)\n",
    "        v = self.conv2dT(v)\n",
    "        v2 = self.conv2dT1(v)\n",
    "        v = Add()([input,v2])\n",
    "        v = relu(v)\n",
    "        return v\n",
    "\n",
    "model = Network()"
   ]
  },
  {
   "cell_type": "code",
   "execution_count": 15,
   "metadata": {
    "colab": {},
    "colab_type": "code",
    "id": "z9G11gRd-Ag3"
   },
   "outputs": [],
   "source": [
    "Adam = tf.keras.optimizers.Adam()\n",
    "model.compile(optimizer = Adam, loss = 'mean_squared_error')"
   ]
  },
  {
   "cell_type": "markdown",
   "metadata": {
    "colab_type": "text",
    "id": "q5uZXdESKOF5"
   },
   "source": [
    "The model is trained with decaying learning rate (0.991 * learning rate every 4 epochs). The model uses Adam optimizer for its optimization process with mean-squared error as its loss function. Accuracy metric is not used as this project is intended to correct noisy images, not classify noisy/non-noisy images."
   ]
  },
  {
   "cell_type": "code",
   "execution_count": 16,
   "metadata": {
    "colab": {
     "base_uri": "https://localhost:8080/",
     "height": 1000
    },
    "colab_type": "code",
    "id": "CN30Y5it0jbG",
    "outputId": "1dfb6c61-98d8-4467-9717-3a7d95ef3ec2"
   },
   "outputs": [
    {
     "name": "stdout",
     "output_type": "stream",
     "text": [
      "Epoch 1/40\n",
      "4800/4800 - 260s - loss: 7.1763e-04 - val_loss: 3.4354e-04 - lr: 1.0000e-04 - 260s/epoch - 54ms/step\n",
      "Epoch 2/40\n",
      "4800/4800 - 258s - loss: 2.7965e-04 - val_loss: 2.1348e-04 - lr: 1.0000e-04 - 258s/epoch - 54ms/step\n",
      "Epoch 3/40\n",
      "4800/4800 - 255s - loss: 2.0595e-04 - val_loss: 5.4132e-04 - lr: 1.0000e-04 - 255s/epoch - 53ms/step\n",
      "Epoch 4/40\n",
      "4800/4800 - 254s - loss: 1.7376e-04 - val_loss: 1.4286e-04 - lr: 9.9100e-05 - 254s/epoch - 53ms/step\n",
      "Epoch 5/40\n",
      "4800/4800 - 265s - loss: 1.3988e-04 - val_loss: 1.2360e-04 - lr: 9.9100e-05 - 265s/epoch - 55ms/step\n",
      "Epoch 6/40\n",
      "4800/4800 - 261s - loss: 1.2891e-04 - val_loss: 1.1820e-04 - lr: 9.9100e-05 - 261s/epoch - 54ms/step\n",
      "Epoch 7/40\n",
      "4800/4800 - 261s - loss: 1.1330e-04 - val_loss: 1.0720e-04 - lr: 9.9100e-05 - 261s/epoch - 54ms/step\n",
      "Epoch 8/40\n",
      "4800/4800 - 261s - loss: 1.0184e-04 - val_loss: 1.0991e-04 - lr: 9.8208e-05 - 261s/epoch - 54ms/step\n",
      "Epoch 9/40\n",
      "4800/4800 - 262s - loss: 1.0280e-04 - val_loss: 1.0396e-04 - lr: 9.8208e-05 - 262s/epoch - 55ms/step\n",
      "Epoch 10/40\n",
      "4800/4800 - 262s - loss: 8.8297e-05 - val_loss: 8.0657e-05 - lr: 9.8208e-05 - 262s/epoch - 55ms/step\n",
      "Epoch 11/40\n",
      "4800/4800 - 262s - loss: 8.3615e-05 - val_loss: 8.4062e-05 - lr: 9.8208e-05 - 262s/epoch - 55ms/step\n",
      "Epoch 12/40\n",
      "4800/4800 - 260s - loss: 8.0067e-05 - val_loss: 7.4221e-05 - lr: 9.7324e-05 - 260s/epoch - 54ms/step\n",
      "Epoch 13/40\n",
      "4800/4800 - 262s - loss: 7.6217e-05 - val_loss: 7.4837e-05 - lr: 9.7324e-05 - 262s/epoch - 55ms/step\n",
      "Epoch 14/40\n",
      "4800/4800 - 263s - loss: 7.6652e-05 - val_loss: 7.0160e-05 - lr: 9.7324e-05 - 263s/epoch - 55ms/step\n",
      "Epoch 15/40\n",
      "4800/4800 - 264s - loss: 7.1720e-05 - val_loss: 6.8884e-05 - lr: 9.7324e-05 - 264s/epoch - 55ms/step\n",
      "Epoch 16/40\n",
      "4800/4800 - 265s - loss: 6.9784e-05 - val_loss: 6.6693e-05 - lr: 9.6448e-05 - 265s/epoch - 55ms/step\n",
      "Epoch 17/40\n",
      "4800/4800 - 265s - loss: 6.7449e-05 - val_loss: 1.0774e-04 - lr: 9.6448e-05 - 265s/epoch - 55ms/step\n",
      "Epoch 18/40\n",
      "4800/4800 - 264s - loss: 6.4928e-05 - val_loss: 6.3576e-05 - lr: 9.6448e-05 - 264s/epoch - 55ms/step\n",
      "Epoch 19/40\n",
      "4800/4800 - 264s - loss: 6.4243e-05 - val_loss: 6.4765e-05 - lr: 9.6448e-05 - 264s/epoch - 55ms/step\n",
      "Epoch 20/40\n",
      "4800/4800 - 258s - loss: 6.2950e-05 - val_loss: 5.8899e-05 - lr: 9.5580e-05 - 258s/epoch - 54ms/step\n",
      "Epoch 21/40\n",
      "4800/4800 - 257s - loss: 6.0369e-05 - val_loss: 5.7152e-05 - lr: 9.5580e-05 - 257s/epoch - 54ms/step\n",
      "Epoch 22/40\n",
      "4800/4800 - 255s - loss: 6.6148e-05 - val_loss: 6.3090e-05 - lr: 9.5580e-05 - 255s/epoch - 53ms/step\n",
      "Epoch 23/40\n",
      "4800/4800 - 257s - loss: 5.8677e-05 - val_loss: 6.0353e-05 - lr: 9.5580e-05 - 257s/epoch - 53ms/step\n",
      "Epoch 24/40\n",
      "4800/4800 - 255s - loss: 6.5749e-05 - val_loss: 5.8418e-05 - lr: 9.4720e-05 - 255s/epoch - 53ms/step\n",
      "Epoch 25/40\n",
      "4800/4800 - 257s - loss: 5.7393e-05 - val_loss: 5.4612e-05 - lr: 9.4720e-05 - 257s/epoch - 54ms/step\n",
      "Epoch 26/40\n",
      "4800/4800 - 255s - loss: 5.4941e-05 - val_loss: 5.4648e-05 - lr: 9.4720e-05 - 255s/epoch - 53ms/step\n",
      "Epoch 27/40\n",
      "4800/4800 - 255s - loss: 5.5220e-05 - val_loss: 5.6060e-05 - lr: 9.4720e-05 - 255s/epoch - 53ms/step\n",
      "Epoch 28/40\n",
      "4800/4800 - 252s - loss: 5.4860e-05 - val_loss: 5.3652e-05 - lr: 9.3868e-05 - 252s/epoch - 53ms/step\n",
      "Epoch 29/40\n",
      "4800/4800 - 251s - loss: 5.3604e-05 - val_loss: 5.2860e-05 - lr: 9.3868e-05 - 251s/epoch - 52ms/step\n",
      "Epoch 30/40\n",
      "4800/4800 - 252s - loss: 5.2990e-05 - val_loss: 5.2306e-05 - lr: 9.3868e-05 - 252s/epoch - 52ms/step\n",
      "Epoch 31/40\n",
      "4800/4800 - 252s - loss: 5.1972e-05 - val_loss: 5.1858e-05 - lr: 9.3868e-05 - 252s/epoch - 52ms/step\n",
      "Epoch 32/40\n",
      "4800/4800 - 252s - loss: 5.1369e-05 - val_loss: 5.1461e-05 - lr: 9.3023e-05 - 252s/epoch - 52ms/step\n",
      "Epoch 33/40\n",
      "4800/4800 - 252s - loss: 5.1232e-05 - val_loss: 8.6568e-05 - lr: 9.3023e-05 - 252s/epoch - 52ms/step\n",
      "Epoch 34/40\n",
      "4800/4800 - 252s - loss: 5.0499e-05 - val_loss: 4.9736e-05 - lr: 9.3023e-05 - 252s/epoch - 52ms/step\n",
      "Epoch 35/40\n",
      "4800/4800 - 253s - loss: 4.9690e-05 - val_loss: 5.0573e-05 - lr: 9.3023e-05 - 253s/epoch - 53ms/step\n",
      "Epoch 36/40\n",
      "4800/4800 - 256s - loss: 5.0187e-05 - val_loss: 5.0955e-05 - lr: 9.2186e-05 - 256s/epoch - 53ms/step\n",
      "Epoch 37/40\n",
      "4800/4800 - 257s - loss: 4.8629e-05 - val_loss: 5.6953e-05 - lr: 9.2186e-05 - 257s/epoch - 54ms/step\n",
      "Epoch 38/40\n",
      "4800/4800 - 255s - loss: 4.8948e-05 - val_loss: 4.9220e-05 - lr: 9.2186e-05 - 255s/epoch - 53ms/step\n",
      "Epoch 39/40\n",
      "4800/4800 - 259s - loss: 4.8264e-05 - val_loss: 5.1680e-05 - lr: 9.2186e-05 - 259s/epoch - 54ms/step\n",
      "Epoch 40/40\n",
      "4800/4800 - 279s - loss: 4.7744e-05 - val_loss: 6.3885e-05 - lr: 9.1356e-05 - 279s/epoch - 58ms/step\n"
     ]
    }
   ],
   "source": [
    "def step_decay(epoch):\n",
    "    initial_lrate = 0.0001\n",
    "    drop = 0.991\n",
    "    epochs_drop = 4.0\n",
    "    lrate = initial_lrate * math.pow(drop, math.floor((1+epoch)/epochs_drop))\n",
    "    return lrate\n",
    "\n",
    "class LossHistory(tf.keras.callbacks.Callback):\n",
    "    def on_train_begin(self, logs={}):\n",
    "       self.losses = []\n",
    "       self.lr = []\n",
    "       self.val_losses = []\n",
    " \n",
    "    def on_epoch_end(self, batch, logs={}):\n",
    "       self.losses.append(logs.get('loss'))\n",
    "       self.val_losses.append(logs.get('val_loss'))\n",
    "       self.lr.append(step_decay(len(self.losses)))\n",
    "\n",
    "\n",
    "loss_history = LossHistory()\n",
    "lrate = tf.keras.callbacks.LearningRateScheduler(step_decay)\n",
    "callbacks_list = [loss_history, lrate]\n",
    "\n",
    "hist = model.fit(X_train, y_train, batch_size=16, epochs=40,\n",
    "                 validation_data = (X_test, y_test),\n",
    "                 callbacks = callbacks_list,\n",
    "                 verbose = 2)"
   ]
  },
  {
   "cell_type": "code",
   "execution_count": 17,
   "metadata": {
    "colab": {
     "base_uri": "https://localhost:8080/",
     "height": 298
    },
    "colab_type": "code",
    "id": "1b8f5uERvyx7",
    "outputId": "aa3840f6-97e4-447e-8663-ac0c5440ad13"
   },
   "outputs": [
    {
     "name": "stdout",
     "output_type": "stream",
     "text": [
      "Model: \"network\"\n",
      "_________________________________________________________________\n",
      " Layer (type)                Output Shape              Param #   \n",
      "=================================================================\n",
      " en_conv0 (Conv2D)           multiple                  2496      \n",
      "                                                                 \n",
      " en_conv (Conv2D)            multiple                  230496    \n",
      "                                                                 \n",
      " de_conv (Conv2DTranspose)   multiple                  230496    \n",
      "                                                                 \n",
      " de_convf (Conv2DTranspose)  multiple                  2401      \n",
      "                                                                 \n",
      "=================================================================\n",
      "Total params: 465,889\n",
      "Trainable params: 465,889\n",
      "Non-trainable params: 0\n",
      "_________________________________________________________________\n"
     ]
    }
   ],
   "source": [
    "model.summary()"
   ]
  },
  {
   "cell_type": "markdown",
   "metadata": {
    "colab_type": "text",
    "id": "QzmRjwrn6OL-"
   },
   "source": [
    "**Shown below:** loss graph for up to 40 epochs."
   ]
  },
  {
   "cell_type": "code",
   "execution_count": 18,
   "metadata": {
    "colab": {
     "base_uri": "https://localhost:8080/",
     "height": 297
    },
    "colab_type": "code",
    "id": "X94es7qJtpNr",
    "outputId": "bac4fb1c-dbe0-44a6-e64d-d4931579547f"
   },
   "outputs": [
    {
     "data": {
      "text/plain": [
       "<matplotlib.legend.Legend at 0x25903084fa0>"
      ]
     },
     "execution_count": 18,
     "metadata": {},
     "output_type": "execute_result"
    },
    {
     "data": {
      "image/png": "[encoded data removed]",
      "text/plain": [
       "<Figure size 640x480 with 1 Axes>"
      ]
     },
     "metadata": {},
     "output_type": "display_data"
    }
   ],
   "source": [
    "X = np.arange(len(loss_history.losses)) + 1\n",
    "loss = pyplot.plot(X, loss_history.losses)\n",
    "val_loss = pyplot.plot(X, loss_history.val_losses)\n",
    "pyplot.xlabel('Epoch')\n",
    "pyplot.ylabel('Loss')\n",
    "pyplot.legend(['loss', 'val_loss'])"
   ]
  },
  {
   "cell_type": "markdown",
   "metadata": {
    "colab_type": "text",
    "id": "tNRFZHMkL8tK"
   },
   "source": [
    "# 4. Save the model's weight"
   ]
  },
  {
   "cell_type": "code",
   "execution_count": 19,
   "metadata": {
    "colab": {
     "base_uri": "https://localhost:8080/",
     "height": 160
    },
    "colab_type": "code",
    "id": "60b8SJka4xwz",
    "outputId": "d897002c-8bb9-4d95-a549-c47ea9de5b8c"
   },
   "outputs": [
    {
     "name": "stderr",
     "output_type": "stream",
     "text": [
      "WARNING:absl:Found untraced functions such as _jit_compiled_convolution_op, _jit_compiled_convolution_op, _jit_compiled_convolution_op, _jit_compiled_convolution_op while saving (showing 4 of 4). These functions will not be directly callable after loading.\n"
     ]
    },
    {
     "name": "stdout",
     "output_type": "stream",
     "text": [
      "INFO:tensorflow:Assets written to: mymodelpoisson_CT\\assets\n"
     ]
    },
    {
     "name": "stderr",
     "output_type": "stream",
     "text": [
      "INFO:tensorflow:Assets written to: mymodelpoisson_CT\\assets\n"
     ]
    }
   ],
   "source": [
    "model.save(\"mymodelpoisson_CT\")"
   ]
  },
  {
   "cell_type": "code",
   "execution_count": null,
   "metadata": {},
   "outputs": [],
   "source": [
    "cpu_times_end = process.cpu_times()\n",
    "end_time = time.time()\n",
    "stop_sampling = True\n",
    "sampling_thread.join()\n",
    "\n",
    "current, peak = tracemalloc.get_traced_memory()\n",
    "tracemalloc.stop()\n",
    "\n",
    "mem_info = pynvml.nvmlDeviceGetMemoryInfo(handle)\n",
    "utilization = pynvml.nvmlDeviceGetUtilizationRates(handle)\n",
    "pynvml.nvmlShutdown()\n",
    "\n",
    "gpu_mem_used = mem_info.used / 1024**2  \n",
    "gpu_util_percent = utilization.gpu     \n",
    "\n",
    "execution_time = end_time - start_time\n",
    "cpu_time_used = (cpu_times_end.user + cpu_times_end.system) - (cpu_times_start.user + cpu_times_start.system)\n",
    "cpu_usage_percent = (cpu_time_used / execution_time) * 100 if execution_time > 0 else 0\n",
    "avg_cpu_utilization = sum(cpu_utilization_samples) / len(cpu_utilization_samples) if cpu_utilization_samples else 0\n",
    "ram_usage = peak / 10**6  \n",
    "\n",
    "\n",
    "print(f\"Execution Time: {execution_time:.2f} seconds\")\n",
    "print(f\"CPU Usage (Script): {cpu_usage_percent:.2f}%\")\n",
    "print(f\"CPU Utilization (System Avg): {avg_cpu_utilization:.2f}%\")\n",
    "print(f\"Peak RAM Usage: {ram_usage:.2f} MB\")\n",
    "print(f\"GPU Memory Used: {gpu_mem_used:.2f} MB\")\n",
    "print(f\"GPU Utilization: {gpu_util_percent:.2f}%\")\n",
    "\n",
    "pynvml.nvmlShutdown()"
   ]
  }
 ],
 "metadata": {
  "accelerator": "GPU",
  "colab": {
   "collapsed_sections": [],
   "include_colab_link": true,
   "machine_shape": "hm",
   "name": "CT_Denoising_RED-CNN.ipynb",
   "provenance": [],
   "toc_visible": true
  },
  "kernelspec": {
   "display_name": "cuda-gpt",
   "language": "python",
   "name": "cuda"
  },
  "language_info": {
   "codemirror_mode": {
    "name": "ipython",
    "version": 3
   },
   "file_extension": ".py",
   "mimetype": "text/x-python",
   "name": "python",
   "nbconvert_exporter": "python",
   "pygments_lexer": "ipython3",
   "version": "3.8.20"
  }
 },
 "nbformat": 4,
 "nbformat_minor": 0
}
