{
  "cells": [
    {
      "cell_type": "markdown",
      "metadata": {
        "colab_type": "text",
        "id": "view-in-github"
      },
      "source": [
        "<a href=\"https://colab.research.google.com/github/haryobimo96/ct-denoising-redcnn/blob/master/CT_RED_CNN_Reconstructor.ipynb\" target=\"_parent\"><img src=\"https://colab.research.google.com/assets/colab-badge.svg\" alt=\"Open In Colab\"/></a>"
      ]
    },
    {
      "cell_type": "code",
      "execution_count": null,
      "metadata": {
        "colab": {
          "base_uri": "https://localhost:8080/",
          "height": 125
        },
        "colab_type": "code",
        "id": "IuTpSRn8c7fz",
        "outputId": "f485234b-c3c7-4bc6-e365-a58d427c3bcb"
      },
      "outputs": [],
      "source": [
        "# pip install pydicom"
      ]
    },
    {
      "cell_type": "markdown",
      "metadata": {
        "colab_type": "text",
        "id": "3CDZRyYNpB8n"
      },
      "source": [
        "# 1. Import Libraries"
      ]
    },
    {
      "cell_type": "code",
      "execution_count": 1,
      "metadata": {
        "colab": {},
        "colab_type": "code",
        "id": "RIJU4s29cMfU"
      },
      "outputs": [],
      "source": [
        "import numpy as np\n",
        "import tensorflow as tf\n",
        "import pydicom as dicom\n",
        "from tensorflow.keras.models import load_model\n",
        "from matplotlib import pyplot"
      ]
    },
    {
      "cell_type": "code",
      "execution_count": null,
      "metadata": {},
      "outputs": [],
      "source": [
        "import time\n",
        "import psutil\n",
        "import tracemalloc\n",
        "import pynvml\n",
        "import tensorflow as tf\n",
        "import threading\n",
        "\n",
        "\n",
        "pynvml.nvmlInit()\n",
        "handle = pynvml.nvmlDeviceGetHandleByIndex(0)\n",
        "\n",
        "cpu_utilization_samples = []\n",
        "stop_sampling = False\n",
        "\n",
        "def sample_cpu_utilization(interval=1.0):\n",
        "    while not stop_sampling:\n",
        "        cpu_utilization_samples.append(psutil.cpu_percent(interval=interval))\n",
        "\n",
        "sampling_thread = threading.Thread(target=sample_cpu_utilization)\n",
        "sampling_thread.start()\n",
        "\n",
        "start_time = time.time()\n",
        "tracemalloc.start()\n",
        "process = psutil.Process()\n",
        "cpu_times_start = process.cpu_times()"
      ]
    },
    {
      "cell_type": "code",
      "execution_count": 3,
      "metadata": {
        "colab": {
          "base_uri": "https://localhost:8080/",
          "height": 34
        },
        "colab_type": "code",
        "id": "yfV85tV1tc-e",
        "outputId": "ff7f4b7f-540c-428f-f997-aef896d2e4a2"
      },
      "outputs": [
        {
          "name": "stdout",
          "output_type": "stream",
          "text": [
            "Num GPUs Available:  1\n"
          ]
        }
      ],
      "source": [
        "print(\"Num GPUs Available: \", len(tf.config.list_physical_devices('GPU')))"
      ]
    },
    {
      "cell_type": "markdown",
      "metadata": {
        "colab_type": "text",
        "id": "GS62j1_IpHml"
      },
      "source": [
        "# 2. Extract the saved model's weight"
      ]
    },
    {
      "cell_type": "code",
      "execution_count": 4,
      "metadata": {
        "colab": {
          "base_uri": "https://localhost:8080/",
          "height": 140
        },
        "colab_type": "code",
        "id": "UrxWMJ_0xrQn",
        "outputId": "3afe3c4b-b8a1-45de-8d21-b022c096eb01"
      },
      "outputs": [],
      "source": [
        "# !unzip model_weight.zip -d '/content/'"
      ]
    },
    {
      "cell_type": "code",
      "execution_count": 5,
      "metadata": {
        "colab": {},
        "colab_type": "code",
        "id": "ZUWIjfxmx5h7"
      },
      "outputs": [],
      "source": [
        "model = tf.keras.models.load_model('C:/Matthew/Kuliah/Semester 8/Pengolahan Data/Progress code terbaru (12 mar)/Code/mymodelpoisson_CT')"
      ]
    },
    {
      "cell_type": "markdown",
      "metadata": {
        "colab_type": "text",
        "id": "a4eldBpHpOlh"
      },
      "source": [
        "# 3. Initiate the patch denoising and reconstruction process"
      ]
    },
    {
      "cell_type": "code",
      "execution_count": 6,
      "metadata": {
        "colab": {},
        "colab_type": "code",
        "id": "CyuJIqGzcqKZ"
      },
      "outputs": [],
      "source": [
        "class FileManager():\n",
        "\n",
        "    def __init__(self,directory):\n",
        "        self.directory = directory\n",
        "\n",
        "    def DicomFiles(self):\n",
        "        PathDicom = self.directory\n",
        "        lstFilesDCM = []\n",
        "        for dirName, subdirList, fileList in os.walk(PathDicom):\n",
        "            for filename in sorted(fileList):\n",
        "                if \".dcm\" in filename.lower():\n",
        "                    lstFilesDCM.append(os.path.join(dirName,filename))\n",
        "        return lstFilesDCM\n",
        "\n",
        "    def FileCounter(self):\n",
        "        file_count = sum(len(files) for _, _, files in \n",
        "                         sorted(os.walk(self.directory)))\n",
        "        return file_count"
      ]
    },
    {
      "cell_type": "code",
      "execution_count": null,
      "metadata": {
        "colab": {},
        "colab_type": "code",
        "id": "Hr9DT4oFdxww"
      },
      "outputs": [],
      "source": [
        "import os\n",
        "import numpy as np\n",
        "import pydicom\n",
        "import matplotlib.pyplot as plt\n",
        "from tensorflow.keras.models import load_model\n",
        "\n",
        "class ImageReconstructor():\n",
        "    def __init__(self, img, pixel_size, patch_size, patch_stride, pad_to_256=False):\n",
        "        self.img = img\n",
        "        self.pixel_size = int(round(pixel_size))\n",
        "        self.patch_size = patch_size\n",
        "        self.patch_stride = patch_stride\n",
        "        self.pad_to_256 = pad_to_256\n",
        "        \n",
        "        if self.pad_to_256 and self.pixel_size < 256:\n",
        "            pad_width = (256 - self.pixel_size) // 2\n",
        "            self.img = np.pad(self.img, ((pad_width, pad_width), (pad_width, pad_width)), mode='reflect')\n",
        "            self.pixel_size = 256\n",
        "\n",
        "    def patch_extractor(self):\n",
        "        patches_x = (self.pixel_size - self.patch_size) // self.patch_stride\n",
        "        patches_y = (self.pixel_size - self.patch_size) // self.patch_stride\n",
        "        patch_array = np.zeros((patches_x * patches_y, self.patch_size, self.patch_size), dtype='float32')\n",
        "        \n",
        "        idx = 0\n",
        "        for j in range(0, self.pixel_size - self.patch_size, self.patch_stride):\n",
        "            for i in range(0, self.pixel_size - self.patch_size, self.patch_stride):\n",
        "                patch_array[idx] = self.img[i:i+self.patch_size, j:j+self.patch_size]\n",
        "                idx += 1\n",
        "        \n",
        "        return patch_array\n",
        "\n",
        "    def patch_reconstructor(self, array):\n",
        "        patches_x = (self.pixel_size - self.patch_size) // self.patch_stride\n",
        "        patches_y = (self.pixel_size - self.patch_size) // self.patch_stride\n",
        "        tp = []\n",
        "        divpatch = np.ones((self.patch_size, self.patch_size), dtype=np.float32)\n",
        "        divisor = np.zeros((self.pixel_size, self.pixel_size), dtype=np.float32)\n",
        "        ip = np.zeros((self.pixel_size, self.pixel_size), dtype=np.float32)\n",
        "\n",
        "        array = array.reshape(array.shape[0], array.shape[1], array.shape[2], 1)\n",
        "\n",
        "        for k in range(len(array)):\n",
        "            x = model.predict(array[k].reshape(1, self.patch_size, self.patch_size, 1))\n",
        "            tp.append(x.reshape(self.patch_size, self.patch_size))\n",
        "\n",
        "        idx = 0\n",
        "        for j in range(0, self.pixel_size - self.patch_size, self.patch_stride):\n",
        "            for i in range(0, self.pixel_size - self.patch_size, self.patch_stride):\n",
        "                patch = np.array(tp[idx])\n",
        "                padded_patch = np.pad(patch, ((i, self.pixel_size - (i + self.patch_size)), \n",
        "                                              (j, self.pixel_size - (j + self.patch_size))), mode='constant')\n",
        "                divisor_padded = np.pad(divpatch, ((i, self.pixel_size - (i + self.patch_size)),\n",
        "                                                   (j, self.pixel_size - (j + self.patch_size))), mode='constant')\n",
        "                ip += padded_patch\n",
        "                divisor += divisor_padded\n",
        "                idx += 1\n",
        "        \n",
        "        ipfinal = np.divide(ip, divisor, where=divisor != 0)\n",
        "        return ipfinal\n",
        "\n"
      ]
    },
    {
      "cell_type": "markdown",
      "metadata": {
        "colab_type": "text",
        "id": "uskNwXsmpbGX"
      },
      "source": [
        "# 4. Read and execute the file"
      ]
    },
    {
      "cell_type": "code",
      "execution_count": null,
      "metadata": {
        "colab": {
          "base_uri": "https://localhost:8080/",
          "height": 286
        },
        "colab_type": "code",
        "id": "I_a25jPCRSAD",
        "outputId": "29500b6e-fa74-4be6-9e0d-7558370d8517"
      },
      "outputs": [],
      "source": [
        "ds = dicom.read_file('C:/Matthew/Kuliah/Semester 8/Pengolahan Data/Progress code terbaru (17 feb)/Data/Added Noise/CATHLAB/Poisson/CATHLAB Noisy (Poisson 0.70)/FCAVDP00.dcm')\n",
        "img = ds.pixel_array\n",
        "pyplot.imshow(img,cmap='gray')"
      ]
    },
    {
      "cell_type": "code",
      "execution_count": null,
      "metadata": {
        "colab": {},
        "colab_type": "code",
        "id": "HVU-gQV4S7ir"
      },
      "outputs": [],
      "source": [
        "I = ImageReconstructor(img, 256, 64, 4)\n",
        "It =  I.patch_extractor()"
      ]
    },
    {
      "cell_type": "code",
      "execution_count": null,
      "metadata": {
        "colab": {
          "base_uri": "https://localhost:8080/",
          "height": 34
        },
        "colab_type": "code",
        "id": "_7pCXHMu7-ho",
        "outputId": "c614c425-3f31-4f15-f506-c066107dee1a"
      },
      "outputs": [],
      "source": [
        "imgt = I.patch_reconstructor(It)\n",
        "ds.PixelData = imgt.astype('uint16').tobytes()\n",
        "ds.save_as('HASIL_CATHLAB_RED-CNN_Poisson_FCAVDP00(0.70).dcm')"
      ]
    }
  ],
  "metadata": {
    "accelerator": "GPU",
    "colab": {
      "authorship_tag": "ABX9TyNmqBCb0ATACw8IEcaPqst7",
      "collapsed_sections": [],
      "include_colab_link": true,
      "name": "CT_RED-CNN_Reconstructor.ipynb",
      "provenance": [],
      "toc_visible": true
    },
    "kernelspec": {
      "display_name": "cuda-gpt",
      "language": "python",
      "name": "cuda"
    },
    "language_info": {
      "codemirror_mode": {
        "name": "ipython",
        "version": 3
      },
      "file_extension": ".py",
      "mimetype": "text/x-python",
      "name": "python",
      "nbconvert_exporter": "python",
      "pygments_lexer": "ipython3",
      "version": "3.8.20"
    }
  },
  "nbformat": 4,
  "nbformat_minor": 0
}
