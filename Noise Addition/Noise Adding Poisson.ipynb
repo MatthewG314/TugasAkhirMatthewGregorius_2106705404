{
 "cells": [
  {
   "cell_type": "markdown",
   "metadata": {},
   "source": [
    "# Import Libraries"
   ]
  },
  {
   "cell_type": "code",
   "execution_count": null,
   "metadata": {},
   "outputs": [],
   "source": [
    "import os\n",
    "import numpy as np\n",
    "import pydicom\n",
    "\n",
    "import numpy as np\n",
    "import matplotlib.pyplot as plt\n",
    "from skimage import img_as_float, exposure\n",
    "from skimage.restoration import denoise_nl_means, estimate_sigma\n",
    "from skimage.metrics import peak_signal_noise_ratio\n",
    "from skimage.util import random_noise\n",
    "import os\n",
    "\n",
    "\n",
    "import pydicom\n",
    "import skimage\n",
    "print(skimage.__version__)\n",
    "\n",
    "import cv2"
   ]
  },
  {
   "cell_type": "markdown",
   "metadata": {},
   "source": [
    "# Add Poisson Noise"
   ]
  },
  {
   "cell_type": "code",
   "execution_count": null,
   "metadata": {},
   "outputs": [],
   "source": [
    "\n",
    "def add_poisson_noise(image, noise_level=0.80):\n",
    "    \"\"\"\n",
    "    Add Poisson noise to a 2D image.\n",
    "    \n",
    "    Parameters:\n",
    "    - image: numpy array, the original image.\n",
    "    - noise_level: fraction of the estimated photon count to use for noise.\n",
    "    \n",
    "    Returns:\n",
    "    - noisy_image: numpy array, the noisy image.\n",
    "    \"\"\"\n",
    "    image = image.astype(np.float32)\n",
    "    min_val, max_val = np.min(image), np.max(image)\n",
    "\n",
    "    estimated_photon_count = (image - min_val) / (max_val - min_val) * 1000 \n",
    "    \n",
    "    noisy_photon_count = np.random.poisson(estimated_photon_count * noise_level)\n",
    "    \n",
    "    noisy_image = noisy_photon_count / 1000 * (max_val - min_val) + min_val\n",
    "    noisy_image = np.clip(noisy_image, min_val, max_val) \n",
    "\n",
    "    return noisy_image.astype(image.dtype)"
   ]
  },
  {
   "cell_type": "markdown",
   "metadata": {},
   "source": [
    "# Image Directory"
   ]
  },
  {
   "cell_type": "code",
   "execution_count": null,
   "metadata": {},
   "outputs": [],
   "source": [
    "def process_ct_images(input_dir, output_dir, noise_level=0.80):\n",
    "    \"\"\"\n",
    "    Process all DICOM files in the input directory and its subdirectories, \n",
    "    add Poisson noise, and save the noisy images to the output directory.\n",
    "\n",
    "    Parameters:\n",
    "    - input_dir: path to the directory with original CT-Scan images (can include subdirectories).\n",
    "    - output_dir: path to save noisy images.\n",
    "    - noise_level: fraction of the estimated photon count to use for noise.\n",
    "    \"\"\"\n",
    "    if not os.path.exists(output_dir):\n",
    "        os.makedirs(output_dir)\n",
    "    \n",
    "    for root, _, files in os.walk(input_dir):\n",
    "        for filename in files:\n",
    "            file_path = os.path.join(root, filename)\n",
    "            if os.path.isfile(file_path):\n",
    "                try:\n",
    "                    dicom = pydicom.dcmread(file_path)\n",
    "                    image = dicom.pixel_array\n",
    "                    \n",
    "                    noisy_image = add_poisson_noise(image, noise_level)\n",
    "                    \n",
    "                    relative_path = os.path.relpath(root, input_dir)\n",
    "                    sub_output_dir = os.path.join(output_dir, relative_path)\n",
    "                    if not os.path.exists(sub_output_dir):\n",
    "                        os.makedirs(sub_output_dir)\n",
    "                    output_path = os.path.join(sub_output_dir, filename + \".dcm\" if not filename.endswith(\".dcm\") else filename)\n",
    "                    \n",
    "                    noisy_dicom = dicom\n",
    "                    noisy_dicom.PixelData = noisy_image.astype(np.uint16).tobytes()\n",
    "                    noisy_dicom.save_as(output_path)\n",
    "                    print(f\"Processed: {file_path} -> {output_path}\")\n",
    "                except Exception as e:\n",
    "                    print(f\"Skipping {file_path}: Not a valid DICOM file ({e})\")\n",
    "\n",
    "\n"
   ]
  },
  {
   "cell_type": "markdown",
   "metadata": {},
   "source": [
    " # Execute"
   ]
  },
  {
   "cell_type": "code",
   "execution_count": null,
   "metadata": {},
   "outputs": [],
   "source": [
    "# Directories\n",
    "input_directory = \"C:/Matthew/Kuliah/Semester 8/Pengolahan Data/Progress code terbaru (17 feb)/Data/Original/CATHLAB\"\n",
    "output_directory = \"C:/Matthew/Kuliah/Semester 8/Pengolahan Data/Progress code terbaru (17 feb)/Data/Added Noise/CATHLAB/Poisson/CATHLAB Noisy (Poisson 0.80)\"\n",
    "\n",
    "# Add Poisson noise\n",
    "process_ct_images(input_directory, output_directory, noise_level=0.80)"
   ]
  }
 ],
 "metadata": {
  "kernelspec": {
   "display_name": "Python 3",
   "language": "python",
   "name": "python3"
  },
  "language_info": {
   "codemirror_mode": {
    "name": "ipython",
    "version": 3
   },
   "file_extension": ".py",
   "mimetype": "text/x-python",
   "name": "python",
   "nbconvert_exporter": "python",
   "pygments_lexer": "ipython3",
   "version": "3.12.6"
  }
 },
 "nbformat": 4,
 "nbformat_minor": 2
}
