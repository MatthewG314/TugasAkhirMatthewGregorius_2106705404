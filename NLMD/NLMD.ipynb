{
 "cells": [
  {
   "cell_type": "markdown",
   "metadata": {},
   "source": [
    "# NLMD\n",
    "https://scikit-image.org/docs/stable/auto_examples/filters/plot_nonlocal_means.html#sphx-glr-auto-examples-filters-plot-nonlocal-means-py"
   ]
  },
  {
   "cell_type": "markdown",
   "metadata": {},
   "source": [
    "## Process NLMD Multiple File"
   ]
  },
  {
   "cell_type": "code",
   "execution_count": 1,
   "metadata": {},
   "outputs": [
    {
     "name": "stdout",
     "output_type": "stream",
     "text": [
      "0.21.0\n"
     ]
    }
   ],
   "source": [
    "import os\n",
    "import numpy as np\n",
    "import pydicom\n",
    "\n",
    "import numpy as np\n",
    "import matplotlib.pyplot as plt\n",
    "from skimage import img_as_float, exposure\n",
    "from skimage.restoration import denoise_nl_means, estimate_sigma\n",
    "from skimage.metrics import peak_signal_noise_ratio\n",
    "from skimage.util import random_noise\n",
    "import os\n",
    "\n",
    "\n",
    "import pydicom\n",
    "import skimage\n",
    "print(skimage.__version__)\n",
    "\n",
    "import cv2"
   ]
  },
  {
   "cell_type": "code",
   "execution_count": null,
   "metadata": {},
   "outputs": [],
   "source": [
    "import time\n",
    "import psutil\n",
    "import tracemalloc\n",
    "import pynvml\n",
    "import tensorflow as tf\n",
    "import threading\n",
    "\n",
    "pynvml.nvmlInit()\n",
    "handle = pynvml.nvmlDeviceGetHandleByIndex(0)\n",
    "\n",
    "cpu_utilization_samples = []\n",
    "stop_sampling = False\n",
    "\n",
    "def sample_cpu_utilization(interval=1.0):\n",
    "    while not stop_sampling:\n",
    "        cpu_utilization_samples.append(psutil.cpu_percent(interval=interval))\n",
    "\n",
    "sampling_thread = threading.Thread(target=sample_cpu_utilization)\n",
    "sampling_thread.start()\n",
    "\n",
    "start_time = time.time()\n",
    "tracemalloc.start()\n",
    "process = psutil.Process()\n",
    "cpu_times_start = process.cpu_times()"
   ]
  },
  {
   "cell_type": "code",
   "execution_count": null,
   "metadata": {},
   "outputs": [
    {
     "name": "stdout",
     "output_type": "stream",
     "text": [
      "Processed: C:/Matthew/Kuliah/Semester 8/Pengolahan Data/Progress code terbaru (12 mar)/Data 10/Original/CATHLAB\\FCAVDP00.dcm -> C:/Matthew/Kuliah/Semester 8/Pengolahan Data/Progress code terbaru (4 apr)/Results 10/NLMD57/Original\\.\\FCAVDP00.dcm\n",
      "Processed: C:/Matthew/Kuliah/Semester 8/Pengolahan Data/Progress code terbaru (12 mar)/Data 10/Original/CATHLAB\\FCAVDP0A.dcm -> C:/Matthew/Kuliah/Semester 8/Pengolahan Data/Progress code terbaru (4 apr)/Results 10/NLMD57/Original\\.\\FCAVDP0A.dcm\n",
      "Processed: C:/Matthew/Kuliah/Semester 8/Pengolahan Data/Progress code terbaru (12 mar)/Data 10/Original/CATHLAB\\FCAVDP0C.dcm -> C:/Matthew/Kuliah/Semester 8/Pengolahan Data/Progress code terbaru (4 apr)/Results 10/NLMD57/Original\\.\\FCAVDP0C.dcm\n",
      "Processed: C:/Matthew/Kuliah/Semester 8/Pengolahan Data/Progress code terbaru (12 mar)/Data 10/Original/CATHLAB\\FCAVDP0E.dcm -> C:/Matthew/Kuliah/Semester 8/Pengolahan Data/Progress code terbaru (4 apr)/Results 10/NLMD57/Original\\.\\FCAVDP0E.dcm\n",
      "Processed: C:/Matthew/Kuliah/Semester 8/Pengolahan Data/Progress code terbaru (12 mar)/Data 10/Original/CATHLAB\\FCAVDP0G.dcm -> C:/Matthew/Kuliah/Semester 8/Pengolahan Data/Progress code terbaru (4 apr)/Results 10/NLMD57/Original\\.\\FCAVDP0G.dcm\n",
      "Processed: C:/Matthew/Kuliah/Semester 8/Pengolahan Data/Progress code terbaru (12 mar)/Data 10/Original/CATHLAB\\FCAVDP0H.dcm -> C:/Matthew/Kuliah/Semester 8/Pengolahan Data/Progress code terbaru (4 apr)/Results 10/NLMD57/Original\\.\\FCAVDP0H.dcm\n",
      "Processed: C:/Matthew/Kuliah/Semester 8/Pengolahan Data/Progress code terbaru (12 mar)/Data 10/Original/CATHLAB\\FCAVDP0K.dcm -> C:/Matthew/Kuliah/Semester 8/Pengolahan Data/Progress code terbaru (4 apr)/Results 10/NLMD57/Original\\.\\FCAVDP0K.dcm\n",
      "Processed: C:/Matthew/Kuliah/Semester 8/Pengolahan Data/Progress code terbaru (12 mar)/Data 10/Original/CATHLAB\\FCAVDP0M.dcm -> C:/Matthew/Kuliah/Semester 8/Pengolahan Data/Progress code terbaru (4 apr)/Results 10/NLMD57/Original\\.\\FCAVDP0M.dcm\n",
      "Processed: C:/Matthew/Kuliah/Semester 8/Pengolahan Data/Progress code terbaru (12 mar)/Data 10/Original/CATHLAB\\FCAVDP0O.dcm -> C:/Matthew/Kuliah/Semester 8/Pengolahan Data/Progress code terbaru (4 apr)/Results 10/NLMD57/Original\\.\\FCAVDP0O.dcm\n",
      "Processed: C:/Matthew/Kuliah/Semester 8/Pengolahan Data/Progress code terbaru (12 mar)/Data 10/Original/CATHLAB\\FCAVDP0Q.dcm -> C:/Matthew/Kuliah/Semester 8/Pengolahan Data/Progress code terbaru (4 apr)/Results 10/NLMD57/Original\\.\\FCAVDP0Q.dcm\n"
     ]
    }
   ],
   "source": [
    "def denoise_image(image):\n",
    "    \"\"\"\n",
    "    Apply Non-Local Means Denoising to a given image.\n",
    "    \"\"\"\n",
    "    image_float = img_as_float(image)\n",
    "    \n",
    "    \n",
    "    patch_kw = dict(\n",
    "        patch_size = 5,\n",
    "        patch_distance= 7 \n",
    "    )\n",
    "    \n",
    "    denoised_image = denoise_nl_means(image_float, fast_mode=False, **patch_kw)\n",
    "    \n",
    "    return denoised_image\n",
    "\n",
    "def process_dicom_images(input_dir, output_dir):\n",
    "    \"\"\"\n",
    "    Process all DICOM files in the input directory and its subdirectories,\n",
    "    apply Non-Local Means Denoising, and save the denoised images to the output directory.\n",
    "    \"\"\"\n",
    "    if not os.path.exists(output_dir):\n",
    "        os.makedirs(output_dir)\n",
    "    \n",
    "    for root, _, files in os.walk(input_dir):\n",
    "        for filename in files:\n",
    "            file_path = os.path.join(root, filename)\n",
    "            if os.path.isfile(file_path):\n",
    "                try:\n",
    "                    dicom = pydicom.dcmread(file_path)\n",
    "                    image = dicom.pixel_array\n",
    "                    \n",
    "                    min_val = image.min()\n",
    "                    max_val = image.max()\n",
    "                    \n",
    "                    denoised_image = denoise_image(image)\n",
    "                    \n",
    "                    denoised_rescaled = (denoised_image - denoised_image.min()) / \\\n",
    "                                        (denoised_image.max() - denoised_image.min())\n",
    "                    denoised_rescaled = denoised_rescaled * (max_val - min_val) + min_val\n",
    "                    \n",
    "                    dicom.PixelData = denoised_rescaled.astype('uint16').tobytes()\n",
    "                    \n",
    "                    relative_path = os.path.relpath(root, input_dir)\n",
    "                    sub_output_dir = os.path.join(output_dir, relative_path)\n",
    "                    if not os.path.exists(sub_output_dir):\n",
    "                        os.makedirs(sub_output_dir)\n",
    "                    output_path = os.path.join(sub_output_dir, filename)\n",
    "                    \n",
    "                    dicom.save_as(output_path)\n",
    "                    print(f\"Processed: {file_path} -> {output_path}\")\n",
    "                except Exception as e:\n",
    "                    print(f\"Skipping {file_path}: Not a valid DICOM file ({e})\")\n",
    "\n",
    "input_directory = \"C:/Matthew/Kuliah/Semester 8/Pengolahan Data/Progress code terbaru (12 mar)/Data 10/Original/CATHLAB\"\n",
    "output_directory = \"C:/Matthew/Kuliah/Semester 8/Pengolahan Data/Progress code terbaru (4 apr)/Results 10/NLMD57/Original\"\n",
    "process_dicom_images(input_directory, output_directory)"
   ]
  },
  {
   "cell_type": "code",
   "execution_count": null,
   "metadata": {},
   "outputs": [
    {
     "name": "stdout",
     "output_type": "stream",
     "text": [
      "Execution Time: 22.30 seconds\n",
      "CPU Usage (Script): 97.90%\n",
      "CPU Utilization (System Avg): 7.26%\n",
      "Peak RAM Usage: 3.86 MB\n",
      "GPU Memory Used: 775.68 MB\n",
      "GPU Utilization: 2.00%\n"
     ]
    }
   ],
   "source": [
    "cpu_times_end = process.cpu_times()\n",
    "end_time = time.time()\n",
    "stop_sampling = True\n",
    "sampling_thread.join()\n",
    "\n",
    "current, peak = tracemalloc.get_traced_memory()\n",
    "tracemalloc.stop()\n",
    "\n",
    "mem_info = pynvml.nvmlDeviceGetMemoryInfo(handle)\n",
    "utilization = pynvml.nvmlDeviceGetUtilizationRates(handle)\n",
    "pynvml.nvmlShutdown()\n",
    "\n",
    "gpu_mem_used = mem_info.used / 1024**2 \n",
    "gpu_util_percent = utilization.gpu    \n",
    "\n",
    "execution_time = end_time - start_time\n",
    "cpu_time_used = (cpu_times_end.user + cpu_times_end.system) - (cpu_times_start.user + cpu_times_start.system)\n",
    "cpu_usage_percent = (cpu_time_used / execution_time) * 100 if execution_time > 0 else 0\n",
    "\n",
    "avg_cpu_utilization = sum(cpu_utilization_samples) / len(cpu_utilization_samples) if cpu_utilization_samples else 0\n",
    "\n",
    "ram_usage = peak / 10**6 \n",
    "\n",
    "print(f\"Execution Time: {execution_time:.2f} seconds\")\n",
    "print(f\"CPU Usage (Script): {cpu_usage_percent:.2f}%\")\n",
    "print(f\"CPU Utilization (System Avg): {avg_cpu_utilization:.2f}%\")\n",
    "print(f\"Peak RAM Usage: {ram_usage:.2f} MB\")\n",
    "print(f\"GPU Memory Used: {gpu_mem_used:.2f} MB\")\n",
    "print(f\"GPU Utilization: {gpu_util_percent:.2f}%\")\n",
    "pynvml.nvmlShutdown()"
   ]
  }
 ],
 "metadata": {
  "colab": {
   "provenance": []
  },
  "kernelspec": {
   "display_name": "cuda-gpt",
   "language": "python",
   "name": "cuda"
  },
  "language_info": {
   "codemirror_mode": {
    "name": "ipython",
    "version": 3
   },
   "file_extension": ".py",
   "mimetype": "text/x-python",
   "name": "python",
   "nbconvert_exporter": "python",
   "pygments_lexer": "ipython3",
   "version": "3.8.20"
  }
 },
 "nbformat": 4,
 "nbformat_minor": 0
}
